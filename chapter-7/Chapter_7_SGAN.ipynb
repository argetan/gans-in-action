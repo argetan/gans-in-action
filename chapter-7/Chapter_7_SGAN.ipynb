{
 "cells": [
  {
   "cell_type": "markdown",
   "metadata": {},
   "source": [
    "# 7장: SGAN"
   ]
  },
  {
   "cell_type": "markdown",
   "metadata": {},
   "source": [
    "<table align=\"left\">\n",
    "  <td>\n",
    "    <a target=\"_blank\" href=\"https://colab.research.google.com/github/rickiepark/gans-in-action/blob/master/chapter-7/Chapter_7_SGAN.ipynb\"><img src=\"https://www.tensorflow.org/images/colab_logo_32px.png\" />구글 코랩에서 실행하기</a>\n",
    "  </td>\n",
    "</table>"
   ]
  },
  {
   "cell_type": "code",
   "execution_count": 1,
   "metadata": {},
   "outputs": [],
   "source": [
    "%matplotlib inline\n",
    "\n",
    "import matplotlib.pyplot as plt\n",
    "import numpy as np\n",
    "\n",
    "from tensorflow.keras import backend as K\n",
    "\n",
    "from tensorflow.keras.datasets import mnist\n",
    "from tensorflow.keras.layers import (Activation, BatchNormalization, Concatenate, Dense,\n",
    "                                     Dropout, Flatten, Input, Lambda, Reshape)\n",
    "from tensorflow.keras.layers import LeakyReLU\n",
    "from tensorflow.keras.layers import Conv2D, Conv2DTranspose\n",
    "from tensorflow.keras.models import Model, Sequential\n",
    "from tensorflow.keras.optimizers import Adam\n",
    "from tensorflow.keras.utils import to_categorical"
   ]
  },
  {
   "cell_type": "markdown",
   "metadata": {},
   "source": [
    "## 데이터셋"
   ]
  },
  {
   "cell_type": "code",
   "execution_count": 2,
   "metadata": {},
   "outputs": [],
   "source": [
    "class Dataset:\n",
    "    def __init__(self, num_labeled):\n",
    "\n",
    "        # 훈련에 사용할 레이블된 샘플 개수\n",
    "        self.num_labeled = num_labeled\n",
    "\n",
    "        # MNIST 데이터셋 적재\n",
    "        (self.x_train, self.y_train), (self.x_test,\n",
    "                                       self.y_test) = mnist.load_data()\n",
    "\n",
    "        def preprocess_imgs(x):\n",
    "            # [0, 255] 사이 흑백 픽셀 값을 [–1, 1] 사이로 변환\n",
    "            x = (x.astype(np.float32) - 127.5) / 127.5\n",
    "            # 너비 × 높이 × 채널로 이미지 차원을 확장\n",
    "            x = np.expand_dims(x, axis=3)\n",
    "            return x\n",
    "\n",
    "        def preprocess_labels(y):\n",
    "            return y.reshape(-1, 1)\n",
    "\n",
    "        # 훈련 데이터\n",
    "        self.x_train = preprocess_imgs(self.x_train)\n",
    "        self.y_train = preprocess_labels(self.y_train)\n",
    "\n",
    "        # 테스트 데이터\n",
    "        self.x_test = preprocess_imgs(self.x_test)\n",
    "        self.y_test = preprocess_labels(self.y_test)\n",
    "\n",
    "    def batch_labeled(self, batch_size):\n",
    "        # 레이블된 이미지와 레이블의 랜덤 배치 만들기\n",
    "        idx = np.random.randint(0, self.num_labeled, batch_size)\n",
    "        imgs = self.x_train[idx]\n",
    "        labels = self.y_train[idx]\n",
    "        return imgs, labels\n",
    "\n",
    "    def batch_unlabeled(self, batch_size):\n",
    "        # 레이블이 없는 이미지의 랜덤 배치 만들기\n",
    "        idx = np.random.randint(self.num_labeled, self.x_train.shape[0],\n",
    "                                batch_size)\n",
    "        imgs = self.x_train[idx]\n",
    "        return imgs\n",
    "\n",
    "    def training_set(self):\n",
    "        x_train = self.x_train[range(self.num_labeled)]\n",
    "        y_train = self.y_train[range(self.num_labeled)]\n",
    "        return x_train, y_train\n",
    "\n",
    "    def test_set(self):\n",
    "        return self.x_test, self.y_test"
   ]
  },
  {
   "cell_type": "code",
   "execution_count": 3,
   "metadata": {},
   "outputs": [],
   "source": [
    "# 사용할 레이블된 샘플 개수 (나머지는 레이블없이 사용합니다)\n",
    "num_labeled = 100\n",
    "\n",
    "dataset = Dataset(num_labeled)"
   ]
  },
  {
   "cell_type": "markdown",
   "metadata": {},
   "source": [
    "# SGAN"
   ]
  },
  {
   "cell_type": "code",
   "execution_count": 4,
   "metadata": {},
   "outputs": [],
   "source": [
    "img_rows = 28\n",
    "img_cols = 28\n",
    "channels = 1\n",
    "\n",
    "# 입력 이미지 차원\n",
    "img_shape = (img_rows, img_cols, channels)\n",
    "\n",
    "# 생성자의 입력으로 사용할 잡음 벡터의 크기\n",
    "z_dim = 100\n",
    "\n",
    "# 데이터셋에 있는 클래스 개수\n",
    "num_classes = 10"
   ]
  },
  {
   "cell_type": "markdown",
   "metadata": {},
   "source": [
    "## 생성자"
   ]
  },
  {
   "cell_type": "code",
   "execution_count": 5,
   "metadata": {},
   "outputs": [],
   "source": [
    "def build_generator(z_dim):\n",
    "\n",
    "    model = Sequential()\n",
    "\n",
    "    # 완전 연결 층을 사용해 입력을 7 × 7 × 256 크기 텐서로 바꿉니다.\n",
    "    model.add(Dense(256 * 7 * 7, input_dim=z_dim))\n",
    "    model.add(Reshape((7, 7, 256)))\n",
    "\n",
    "    # 7 × 7 × 256에서 14 × 14 × 128 텐서로 바꾸는 전치 합성곱 층\n",
    "    model.add(Conv2DTranspose(128, kernel_size=3, strides=2, padding='same'))\n",
    "\n",
    "    # 배치 정규화\n",
    "    model.add(BatchNormalization())\n",
    "\n",
    "    # LeakyReLU 활성화 함수\n",
    "    model.add(LeakyReLU(alpha=0.01))\n",
    "\n",
    "    # 14 × 14 × 128에서 14 × 14 × 64 텐서로 바꾸는 전치 합성곱 층\n",
    "    model.add(Conv2DTranspose(64, kernel_size=3, strides=1, padding='same'))\n",
    "\n",
    "    # 배치 정규화\n",
    "    model.add(BatchNormalization())\n",
    "\n",
    "    # LeakyReLU 활성화 함수\n",
    "    model.add(LeakyReLU(alpha=0.01))\n",
    "\n",
    "    # 14 × 14 × 64에서 28 × 28 × 1 텐서로 바꾸는 전치 합성곱 층\n",
    "    model.add(Conv2DTranspose(1, kernel_size=3, strides=2, padding='same'))\n",
    "\n",
    "    # tanh 활성화 함수\n",
    "    model.add(Activation('tanh'))\n",
    "\n",
    "    return model"
   ]
  },
  {
   "cell_type": "markdown",
   "metadata": {},
   "source": [
    "## 판별자"
   ]
  },
  {
   "cell_type": "code",
   "execution_count": 6,
   "metadata": {},
   "outputs": [],
   "source": [
    "def build_discriminator_net(img_shape):\n",
    "\n",
    "    model = Sequential()\n",
    "\n",
    "    # 28 × 28 × 1에서 14 × 14 × 32 텐서로 바꾸는 합성곱 층\n",
    "    model.add(\n",
    "        Conv2D(32,\n",
    "               kernel_size=3,\n",
    "               strides=2,\n",
    "               input_shape=img_shape,\n",
    "               padding='same'))\n",
    "\n",
    "    # LeakyReLU 활성화 함수\n",
    "    model.add(LeakyReLU(alpha=0.01))\n",
    "\n",
    "    # 14 × 14 × 32에서 7 × 7 × 64 텐서로 바꾸는 합성곱 층\n",
    "    model.add(\n",
    "        Conv2D(64,\n",
    "               kernel_size=3,\n",
    "               strides=2,\n",
    "               input_shape=img_shape,\n",
    "               padding='same'))\n",
    "    \n",
    "    # LeakyReLU 활성화 함수\n",
    "    model.add(LeakyReLU(alpha=0.01))\n",
    "\n",
    "    # 7 × 7 × 64에서 3 × 3 × 128 텐서로 바꾸는 합성곱 층\n",
    "    model.add(\n",
    "        Conv2D(128,\n",
    "               kernel_size=3,\n",
    "               strides=2,\n",
    "               input_shape=img_shape,\n",
    "               padding='same'))\n",
    "    \n",
    "    # LeakyReLU 활성화 함수\n",
    "    model.add(LeakyReLU(alpha=0.01))\n",
    "\n",
    "    # 드롭아웃\n",
    "    model.add(Dropout(0.5))\n",
    "\n",
    "    # 텐서 펼치기\n",
    "    model.add(Flatten())\n",
    "\n",
    "    # num_classes 개의 뉴런을 가진 완전 연결 층\n",
    "    model.add(Dense(num_classes))\n",
    "\n",
    "    return model"
   ]
  },
  {
   "cell_type": "code",
   "execution_count": 7,
   "metadata": {},
   "outputs": [],
   "source": [
    "def build_discriminator_supervised(discriminator_net):\n",
    "\n",
    "    model = Sequential()\n",
    "\n",
    "    model.add(discriminator_net)\n",
    "\n",
    "    # 진짜 클래스에 대한 예측 확률을 출력하는 소프트맥스 활성화 함수\n",
    "    model.add(Activation('softmax'))\n",
    "\n",
    "    return model"
   ]
  },
  {
   "cell_type": "code",
   "execution_count": 8,
   "metadata": {},
   "outputs": [],
   "source": [
    "def build_discriminator_unsupervised(discriminator_net):\n",
    "\n",
    "    model = Sequential()\n",
    "\n",
    "    model.add(discriminator_net)\n",
    "\n",
    "    def predict(x):\n",
    "        # 진짜 클래스에 대한 확률 분포를 진짜 대 가짜의 이진 확률로 변환합니다.\n",
    "        prediction = 1.0 - (1.0 /\n",
    "                            (K.sum(K.exp(x), axis=-1, keepdims=True) + 1.0))\n",
    "        return prediction\n",
    "\n",
    "    # 앞서 정의한 진짜 대 가짜 확률을 출력하는 뉴런\n",
    "    model.add(Lambda(predict))\n",
    "\n",
    "    return model"
   ]
  },
  {
   "cell_type": "markdown",
   "metadata": {},
   "source": [
    "## 모델 구성"
   ]
  },
  {
   "cell_type": "code",
   "execution_count": 9,
   "metadata": {},
   "outputs": [],
   "source": [
    "def build_gan(generator, discriminator):\n",
    "\n",
    "    model = Sequential()\n",
    "\n",
    "    # 생성자와 판별자 모델을 연결하기\n",
    "    model.add(generator)\n",
    "    model.add(discriminator)\n",
    "\n",
    "    return model"
   ]
  },
  {
   "cell_type": "markdown",
   "metadata": {},
   "source": [
    "### 판별자"
   ]
  },
  {
   "cell_type": "code",
   "execution_count": 10,
   "metadata": {},
   "outputs": [],
   "source": [
    "# 판별자 기반 모델: 이 층들은 지도 학습 훈련과 비지도 학습 훈련에 공유됩니다.\n",
    "discriminator_net = build_discriminator_net(img_shape)\n",
    "\n",
    "# 지도 학습 훈련을 위해 판별자를 만들고 컴파일합니다.\n",
    "discriminator_supervised = build_discriminator_supervised(discriminator_net)\n",
    "discriminator_supervised.compile(loss='categorical_crossentropy',\n",
    "                                 metrics=['accuracy'],\n",
    "                                 optimizer=Adam(learning_rate=0.0003))\n",
    "\n",
    "# 비지도 학습 훈련을 위해 판별자를 만들고 컴파일합니다.\n",
    "discriminator_unsupervised = build_discriminator_unsupervised(discriminator_net)\n",
    "discriminator_unsupervised.compile(loss='binary_crossentropy',\n",
    "                                   optimizer=Adam())"
   ]
  },
  {
   "cell_type": "markdown",
   "metadata": {},
   "source": [
    "### 생성자"
   ]
  },
  {
   "cell_type": "code",
   "execution_count": 11,
   "metadata": {},
   "outputs": [],
   "source": [
    "# 생성자를 만듭니다.\n",
    "generator = build_generator(z_dim)\n",
    "\n",
    "# 생성자 훈련을 위해 판별자의 모델 파라미터를 동결합니다.\n",
    "discriminator_unsupervised.trainable = False\n",
    "\n",
    "# 생성자를 훈련하기 위해 고정된 판별자로 GAN 모델을 만들고 컴파일합니다.\n",
    "# 노트: 비지도 학습용 판별자를 사용하세요.\n",
    "gan = build_gan(generator, discriminator_unsupervised)\n",
    "gan.compile(loss='binary_crossentropy', optimizer=Adam())"
   ]
  },
  {
   "cell_type": "markdown",
   "metadata": {},
   "source": [
    "## 훈련"
   ]
  },
  {
   "cell_type": "code",
   "execution_count": 12,
   "metadata": {},
   "outputs": [],
   "source": [
    "supervised_losses = []\n",
    "iteration_checkpoints = []\n",
    "\n",
    "\n",
    "def train(iterations, batch_size, sample_interval):\n",
    "\n",
    "    # 진짜 이미지의 레이블: 모두 1\n",
    "    real = np.ones((batch_size, 1))\n",
    "\n",
    "    # 가짜 이미지의 레이블: 모두 0\n",
    "    fake = np.zeros((batch_size, 1))\n",
    "\n",
    "    for iteration in range(iterations):\n",
    "\n",
    "        # -------------------------\n",
    "        #  판별자 훈련\n",
    "        # -------------------------\n",
    "\n",
    "        # 레이블된 샘플을 가져옵니다.\n",
    "        imgs, labels = dataset.batch_labeled(batch_size)\n",
    "\n",
    "        # 레이블을 원-핫 인코딩합니다.\n",
    "        labels = to_categorical(labels, num_classes=num_classes)\n",
    "\n",
    "        # 레이블이 없는 샘플을 가져옵니다.\n",
    "        imgs_unlabeled = dataset.batch_unlabeled(batch_size)\n",
    "\n",
    "        # 가짜 이미지의 배치를 생성합니다.\n",
    "        z = np.random.normal(0, 1, (batch_size, z_dim))\n",
    "        gen_imgs = generator.predict(z)\n",
    "\n",
    "        # 레이블된 진짜 샘플에서 훈련합니다.\n",
    "        d_loss_supervised, accuracy = discriminator_supervised.train_on_batch(imgs, labels)\n",
    "\n",
    "        # 레이블이 없는 진짜 샘플에서 훈련합니다.\n",
    "        d_loss_real = discriminator_unsupervised.train_on_batch(\n",
    "            imgs_unlabeled, real)\n",
    "\n",
    "        # 가짜 샘플에서 훈련합니다.\n",
    "        d_loss_fake = discriminator_unsupervised.train_on_batch(gen_imgs, fake)\n",
    "\n",
    "        d_loss_unsupervised = 0.5 * np.add(d_loss_real, d_loss_fake)\n",
    "\n",
    "        # ---------------------\n",
    "        #  생성자 훈련\u001e",
    "\n",
    "        # ---------------------\n",
    "\n",
    "        # 가짜 이미지의 배치를 생성합니다.\n",
    "        z = np.random.normal(0, 1, (batch_size, z_dim))\n",
    "        gen_imgs = generator.predict(z)\n",
    "\n",
    "        # 생성자를 훈련합니다.\n",
    "        g_loss = gan.train_on_batch(z, np.ones((batch_size, 1)))\n",
    "\n",
    "        if (iteration + 1) % sample_interval == 0:\n",
    "\n",
    "            # 훈련이 끝난 후 그래프를 그리기 위해 판별자의 지도 학습 분류 손실을 기록합니다.\n",
    "            supervised_losses.append(d_loss_supervised)\n",
    "            iteration_checkpoints.append(iteration + 1)\n",
    "\n",
    "            # 훈련 과정을 출력합니다.\n",
    "            print(\n",
    "                \"%d [D loss supervised: %.4f, acc.: %.2f%%] [D loss unsupervised: %.4f] [G loss: %f]\"\n",
    "                % (iteration + 1, d_loss_supervised, 100 * accuracy,\n",
    "                   d_loss_unsupervised, g_loss))"
   ]
  },
  {
   "cell_type": "markdown",
   "metadata": {},
   "source": [
    "## 모델 훈련과 출력 조사"
   ]
  },
  {
   "cell_type": "code",
   "execution_count": 13,
   "metadata": {
    "scrolled": true
   },
   "outputs": [
    {
     "name": "stdout",
     "output_type": "stream",
     "text": [
      "800 [D loss supervised: 0.2354, acc.: 96.88%] [D loss unsupervised: 0.2210] [G loss: 3.260477]\n",
      "1600 [D loss supervised: 0.1517, acc.: 96.88%] [D loss unsupervised: 0.3538] [G loss: 2.626133]\n",
      "2400 [D loss supervised: 0.0198, acc.: 100.00%] [D loss unsupervised: 0.4864] [G loss: 1.660674]\n",
      "3200 [D loss supervised: 0.0350, acc.: 96.88%] [D loss unsupervised: 0.3563] [G loss: 1.551709]\n",
      "4000 [D loss supervised: 0.0149, acc.: 100.00%] [D loss unsupervised: 0.5633] [G loss: 2.126375]\n",
      "4800 [D loss supervised: 0.0166, acc.: 100.00%] [D loss unsupervised: 0.2613] [G loss: 2.189049]\n",
      "5600 [D loss supervised: 0.0018, acc.: 100.00%] [D loss unsupervised: 0.5701] [G loss: 2.096905]\n",
      "6400 [D loss supervised: 0.0039, acc.: 100.00%] [D loss unsupervised: 0.4436] [G loss: 1.799053]\n",
      "7200 [D loss supervised: 0.0013, acc.: 100.00%] [D loss unsupervised: 0.4864] [G loss: 1.459617]\n",
      "8000 [D loss supervised: 0.0019, acc.: 100.00%] [D loss unsupervised: 0.3572] [G loss: 1.493661]\n"
     ]
    }
   ],
   "source": [
    "# 하이퍼파라미터를 셋팅합니다.\n",
    "iterations = 8000\n",
    "batch_size = 32\n",
    "sample_interval = 800\n",
    "\n",
    "# 지정한 반복 횟수 동안 SGAN을 훈련합니다.\n",
    "train(iterations, batch_size, sample_interval)"
   ]
  },
  {
   "cell_type": "code",
   "execution_count": 14,
   "metadata": {},
   "outputs": [
    {
     "data": {
      "image/png": "[encoded data removed]",
      "text/plain": [
       "<Figure size 1080x360 with 1 Axes>"
      ]
     },
     "metadata": {
      "needs_background": "light"
     },
     "output_type": "display_data"
    }
   ],
   "source": [
    "losses = np.array(supervised_losses)\n",
    "\n",
    "# 판별자의 지도 학습 손실을 그립니다.\n",
    "plt.figure(figsize=(15, 5))\n",
    "plt.plot(iteration_checkpoints, losses, label=\"Discriminator loss\")\n",
    "\n",
    "plt.xticks(iteration_checkpoints, rotation=90)\n",
    "\n",
    "plt.title(\"Discriminator – Supervised Loss\")\n",
    "plt.xlabel(\"Iteration\")\n",
    "plt.ylabel(\"Loss\")\n",
    "plt.legend()\n",
    "plt.show()"
   ]
  },
  {
   "cell_type": "markdown",
   "metadata": {},
   "source": [
    "## SGAN 분류기 – 훈련 세트와 테스트 세트 정확도"
   ]
  },
  {
   "cell_type": "code",
   "execution_count": 15,
   "metadata": {},
   "outputs": [
    {
     "name": "stdout",
     "output_type": "stream",
     "text": [
      "4/4 [==============================] - 0s 62ms/step - loss: 6.8457e-04 - accuracy: 1.0000\n",
      "Training Accuracy: 100.00%\n"
     ]
    }
   ],
   "source": [
    "x, y = dataset.training_set()\n",
    "y = to_categorical(y, num_classes=num_classes)\n",
    "\n",
    "# 훈련 세트에서 분류 정확도 계산\n",
    "_, accuracy = discriminator_supervised.evaluate(x, y)\n",
    "print(\"Training Accuracy: %.2f%%\" % (100 * accuracy))"
   ]
  },
  {
   "cell_type": "code",
   "execution_count": 16,
   "metadata": {},
   "outputs": [
    {
     "name": "stdout",
     "output_type": "stream",
     "text": [
      "313/313 [==============================] - 1s 4ms/step - loss: 0.2602 - accuracy: 0.9223\n",
      "Test Accuracy: 92.23%\n"
     ]
    }
   ],
   "source": [
    "x, y = dataset.test_set()\n",
    "y = to_categorical(y, num_classes=num_classes)\n",
    "\n",
    "# 테스트 세트에서 분류 정확도 계산\n",
    "_, accuracy = discriminator_supervised.evaluate(x, y)\n",
    "print(\"Test Accuracy: %.2f%%\" % (100 * accuracy))"
   ]
  },
  {
   "cell_type": "markdown",
   "metadata": {},
   "source": [
    "# 완전히 지도 학습으로 훈련된 분류기"
   ]
  },
  {
   "cell_type": "code",
   "execution_count": 17,
   "metadata": {},
   "outputs": [],
   "source": [
    "# SGAN 판별자와 같은 네트워크 구조를 가진 지도 학습 분류기\n",
    "mnist_classifier = build_discriminator_supervised(build_discriminator_net(img_shape))\n",
    "mnist_classifier.compile(loss='categorical_crossentropy',\n",
    "                         metrics=['accuracy'],\n",
    "                         optimizer=Adam())"
   ]
  },
  {
   "cell_type": "code",
   "execution_count": 18,
   "metadata": {},
   "outputs": [
    {
     "name": "stdout",
     "output_type": "stream",
     "text": [
      "Epoch 1/30\n",
      "4/4 [==============================] - 0s 86ms/step - loss: 2.2788 - accuracy: 0.2000\n",
      "Epoch 2/30\n",
      "4/4 [==============================] - 0s 4ms/step - loss: 2.2064 - accuracy: 0.2100\n",
      "Epoch 3/30\n",
      "4/4 [==============================] - 0s 4ms/step - loss: 2.0985 - accuracy: 0.3600\n",
      "Epoch 4/30\n",
      "4/4 [==============================] - 0s 4ms/step - loss: 2.0324 - accuracy: 0.3600\n",
      "Epoch 5/30\n",
      "4/4 [==============================] - 0s 4ms/step - loss: 1.9111 - accuracy: 0.5300\n",
      "Epoch 6/30\n",
      "4/4 [==============================] - 0s 4ms/step - loss: 1.7367 - accuracy: 0.5900\n",
      "Epoch 7/30\n",
      "4/4 [==============================] - 0s 4ms/step - loss: 1.4800 - accuracy: 0.6300\n",
      "Epoch 8/30\n",
      "4/4 [==============================] - 0s 4ms/step - loss: 1.2500 - accuracy: 0.6500\n",
      "Epoch 9/30\n",
      "4/4 [==============================] - 0s 4ms/step - loss: 1.0527 - accuracy: 0.7300\n",
      "Epoch 10/30\n",
      "4/4 [==============================] - 0s 4ms/step - loss: 0.8915 - accuracy: 0.7200\n",
      "Epoch 11/30\n",
      "4/4 [==============================] - 0s 4ms/step - loss: 0.6571 - accuracy: 0.7900\n",
      "Epoch 12/30\n",
      "4/4 [==============================] - 0s 4ms/step - loss: 0.5731 - accuracy: 0.8300\n",
      "Epoch 13/30\n",
      "4/4 [==============================] - 0s 4ms/step - loss: 0.4225 - accuracy: 0.9000\n",
      "Epoch 14/30\n",
      "4/4 [==============================] - 0s 4ms/step - loss: 0.4838 - accuracy: 0.8600\n",
      "Epoch 15/30\n",
      "4/4 [==============================] - 0s 4ms/step - loss: 0.3007 - accuracy: 0.9300\n",
      "Epoch 16/30\n",
      "4/4 [==============================] - 0s 4ms/step - loss: 0.3227 - accuracy: 0.8900\n",
      "Epoch 17/30\n",
      "4/4 [==============================] - 0s 4ms/step - loss: 0.2136 - accuracy: 0.9500\n",
      "Epoch 18/30\n",
      "4/4 [==============================] - 0s 4ms/step - loss: 0.1587 - accuracy: 0.9600\n",
      "Epoch 19/30\n",
      "4/4 [==============================] - 0s 4ms/step - loss: 0.1649 - accuracy: 0.9600\n",
      "Epoch 20/30\n",
      "4/4 [==============================] - 0s 4ms/step - loss: 0.0718 - accuracy: 1.0000\n",
      "Epoch 21/30\n",
      "4/4 [==============================] - 0s 4ms/step - loss: 0.1244 - accuracy: 0.9800\n",
      "Epoch 22/30\n",
      "4/4 [==============================] - 0s 4ms/step - loss: 0.1114 - accuracy: 0.9600\n",
      "Epoch 23/30\n",
      "4/4 [==============================] - 0s 4ms/step - loss: 0.1035 - accuracy: 0.9700\n",
      "Epoch 24/30\n",
      "4/4 [==============================] - 0s 4ms/step - loss: 0.0585 - accuracy: 0.9900\n",
      "Epoch 25/30\n",
      "4/4 [==============================] - 0s 4ms/step - loss: 0.0453 - accuracy: 1.0000\n",
      "Epoch 26/30\n",
      "4/4 [==============================] - 0s 4ms/step - loss: 0.0435 - accuracy: 1.0000\n",
      "Epoch 27/30\n",
      "4/4 [==============================] - 0s 4ms/step - loss: 0.0439 - accuracy: 0.9900\n",
      "Epoch 28/30\n",
      "4/4 [==============================] - 0s 4ms/step - loss: 0.0351 - accuracy: 0.9900\n",
      "Epoch 29/30\n",
      "4/4 [==============================] - 0s 4ms/step - loss: 0.0406 - accuracy: 1.0000\n",
      "Epoch 30/30\n",
      "4/4 [==============================] - 0s 4ms/step - loss: 0.0208 - accuracy: 1.0000\n"
     ]
    }
   ],
   "source": [
    "imgs, labels = dataset.training_set()\n",
    "\n",
    "# 레이블을 원-핫 인코딩합니다.\n",
    "labels = to_categorical(labels, num_classes=num_classes)\n",
    "\n",
    "# 분류기를 훈련합니다.\n",
    "training = mnist_classifier.fit(x=imgs,\n",
    "                                y=labels,\n",
    "                                batch_size=32,\n",
    "                                epochs=30,\n",
    "                                verbose=1)\n",
    "losses = training.history['loss']\n",
    "accuracies = training.history['accuracy']"
   ]
  },
  {
   "cell_type": "code",
   "execution_count": 19,
   "metadata": {},
   "outputs": [
    {
     "data": {
      "image/png": "[encoded data removed]",
      "text/plain": [
       "<Figure size 720x360 with 1 Axes>"
      ]
     },
     "metadata": {
      "needs_background": "light"
     },
     "output_type": "display_data"
    }
   ],
   "source": [
    "# 분류 손실을 그립니다\n",
    "plt.figure(figsize=(10, 5))\n",
    "plt.plot(np.array(losses), label=\"Loss\")\n",
    "plt.title(\"Classification Loss\")\n",
    "plt.legend()\n",
    "plt.show()"
   ]
  },
  {
   "cell_type": "code",
   "execution_count": 20,
   "metadata": {},
   "outputs": [
    {
     "data": {
      "image/png": "[encoded data removed]",
      "text/plain": [
       "<Figure size 720x360 with 1 Axes>"
      ]
     },
     "metadata": {
      "needs_background": "light"
     },
     "output_type": "display_data"
    }
   ],
   "source": [
    "# 분류 정확도를 그립니다.\n",
    "plt.figure(figsize=(10, 5))\n",
    "plt.plot(np.array(accuracies), label=\"Accuracy\")\n",
    "plt.title(\"Classification Accuracy\")\n",
    "plt.legend()\n",
    "plt.show()"
   ]
  },
  {
   "cell_type": "code",
   "execution_count": 21,
   "metadata": {},
   "outputs": [
    {
     "name": "stdout",
     "output_type": "stream",
     "text": [
      "4/4 [==============================] - 0s 3ms/step - loss: 0.0060 - accuracy: 1.0000\n",
      "Training Accuracy: 100.00%\n"
     ]
    }
   ],
   "source": [
    "x, y = dataset.training_set()\n",
    "y = to_categorical(y, num_classes=num_classes)\n",
    "\n",
    "# 훈련 세트에 대한 분류 정확도를 계산합니다.\n",
    "_, accuracy = mnist_classifier.evaluate(x, y)\n",
    "print(\"Training Accuracy: %.2f%%\" % (100 * accuracy))"
   ]
  },
  {
   "cell_type": "code",
   "execution_count": 22,
   "metadata": {},
   "outputs": [
    {
     "name": "stdout",
     "output_type": "stream",
     "text": [
      "313/313 [==============================] - 1s 3ms/step - loss: 1.3888 - accuracy: 0.6910\n",
      "Test Accuracy: 69.10%\n"
     ]
    }
   ],
   "source": [
    "x, y = dataset.test_set()\n",
    "y = to_categorical(y, num_classes=num_classes)\n",
    "\n",
    "# 테스트 세트에 대한 분류 정확도를 계산합니다.\n",
    "_, accuracy = mnist_classifier.evaluate(x, y)\n",
    "print(\"Test Accuracy: %.2f%%\" % (100 * accuracy))"
   ]
  }
 ],
 "metadata": {
  "kernelspec": {
   "display_name": "TensorFlow 2.2 on Python 3.6 (CUDA 10.1)",
   "language": "python",
   "name": "python3"
  },
  "language_info": {
   "codemirror_mode": {
    "name": "ipython",
    "version": 3
   },
   "file_extension": ".py",
   "mimetype": "text/x-python",
   "name": "python",
   "nbconvert_exporter": "python",
   "pygments_lexer": "ipython3",
   "version": "3.6.9"
  }
 },
 "nbformat": 4,
 "nbformat_minor": 2
}
